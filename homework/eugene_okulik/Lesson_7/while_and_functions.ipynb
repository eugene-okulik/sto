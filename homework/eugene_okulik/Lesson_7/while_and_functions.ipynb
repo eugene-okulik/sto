{
 "cells": [
  {
   "cell_type": "markdown",
   "metadata": {},
   "source": [
    "## while loop - цикл while"
   ]
  },
  {
   "cell_type": "code",
   "execution_count": 1,
   "metadata": {},
   "outputs": [
    {
     "name": "stdout",
     "output_type": "stream",
     "text": [
      "hello\n",
      "hello\n",
      "hello\n",
      "hello\n",
      "hello\n",
      "The end\n"
     ]
    }
   ],
   "source": [
    "i = 0\n",
    "\n",
    "while i < 5:\n",
    "    print('hello')\n",
    "    i += 1\n",
    "\n",
    "print('The end')"
   ]
  },
  {
   "cell_type": "code",
   "execution_count": 6,
   "metadata": {},
   "outputs": [
    {
     "name": "stdout",
     "output_type": "stream",
     "text": [
      "skipping.....\n",
      "input is ok\n",
      "input is ok\n",
      "Good bye!\n"
     ]
    }
   ],
   "source": [
    "while True:\n",
    "    user_input = input('Enter something: ')\n",
    "    if user_input == 'exit':\n",
    "        break\n",
    "    elif user_input == 'skip':\n",
    "        print('skipping.....')\n",
    "        continue\n",
    "    elif len(user_input) > 10:\n",
    "        print('Your input is too long')\n",
    "    else:\n",
    "        print('input is ok')\n",
    "\n",
    "print('Good bye!')\n"
   ]
  },
  {
   "cell_type": "code",
   "execution_count": 16,
   "metadata": {},
   "outputs": [
    {
     "name": "stdout",
     "output_type": "stream",
     "text": [
      "justo\n",
      "commodo\n",
      "libero\n",
      "Sed vitae malesuada, eu, bibendum mauris.\n"
     ]
    }
   ],
   "source": [
    "text = 'Sed vitae justo malesuada, commodo libero eu, bibendum mauris.'\n",
    "\n",
    "words = text.split()\n",
    "fin_words = []\n",
    "for word in words:\n",
    "    if word == 'end':\n",
    "        break\n",
    "    elif 'o' in word:\n",
    "        print(word)\n",
    "        continue\n",
    "    fin_words.append(word)\n",
    "\n",
    "print(' '.join(fin_words))"
   ]
  },
  {
   "cell_type": "markdown",
   "metadata": {},
   "source": [
    "## Functions\n",
    "Это самые основные программные структуры в языке Python, позволяющие многократное использование программного кода и уменьшающие его избыточность. Так же позволяют разбить сложную систему на достаточно простые и легко управляемые части. Они могут принимать аргументы и возвращать результаты выполнения."
   ]
  },
  {
   "cell_type": "markdown",
   "metadata": {},
   "source": [
    "DRY - don't repeat yourself"
   ]
  },
  {
   "cell_type": "code",
   "execution_count": 21,
   "metadata": {},
   "outputs": [
    {
     "name": "stdout",
     "output_type": "stream",
     "text": [
      "48\n",
      "52\n",
      "51\n",
      "54\n"
     ]
    }
   ],
   "source": [
    "a = 1\n",
    "b = 5\n",
    "c = 4\n",
    "d = 7\n",
    "y = 1\n",
    "\n",
    "\n",
    "main_number = 47\n",
    "\n",
    "if y == 0:\n",
    "    print(a)\n",
    "else:\n",
    "    print(a + main_number)\n",
    "if y == 0:\n",
    "    print(b)\n",
    "else:\n",
    "    print(b + main_number)\n",
    "if y == 0:\n",
    "    print(c)\n",
    "else:\n",
    "    print(c + main_number)\n",
    "if y == 0:\n",
    "    print(d)\n",
    "else:\n",
    "    print(d + main_number)"
   ]
  },
  {
   "cell_type": "code",
   "execution_count": 23,
   "metadata": {},
   "outputs": [
    {
     "name": "stdout",
     "output_type": "stream",
     "text": [
      "1\n",
      "5\n",
      "4\n",
      "7\n"
     ]
    }
   ],
   "source": [
    "a = 1\n",
    "b = 5\n",
    "c = 4\n",
    "d = 7\n",
    "y = 0\n",
    "\n",
    "\n",
    "main_number = 47\n",
    "\n",
    "def calc(numb):\n",
    "    if y == 0:\n",
    "        print(numb)\n",
    "    else:\n",
    "        print(numb + main_number)\n",
    "\n",
    "calc(a)\n",
    "calc(b)\n",
    "calc(c)\n",
    "calc(d)\n"
   ]
  },
  {
   "cell_type": "code",
   "execution_count": 30,
   "metadata": {},
   "outputs": [
    {
     "name": "stdout",
     "output_type": "stream",
     "text": [
      "48\n",
      "None\n"
     ]
    }
   ],
   "source": [
    "a = 1\n",
    "b = 5\n",
    "c = 4\n",
    "d = 7\n",
    "y = 1\n",
    "\n",
    "main_number = 47\n",
    "\n",
    "def calc(numb):\n",
    "    if y == 0:\n",
    "        return numb\n",
    "    else:\n",
    "        result = numb + main_number\n",
    "        return result\n",
    "    \n",
    "\n",
    "print(calc(a))\n",
    "# result_b = calc(b)\n",
    "# print(result_b)\n",
    "# calc(c)\n",
    "# calc(d)\n",
    "_ = 1"
   ]
  },
  {
   "cell_type": "code",
   "execution_count": 39,
   "metadata": {},
   "outputs": [
    {
     "name": "stdout",
     "output_type": "stream",
     "text": [
      "None\n"
     ]
    }
   ],
   "source": [
    "def hello():\n",
    "    a = 12\n",
    "    return None\n",
    "\n",
    "print(hello())"
   ]
  },
  {
   "cell_type": "code",
   "execution_count": 42,
   "metadata": {},
   "outputs": [
    {
     "name": "stdout",
     "output_type": "stream",
     "text": [
      "The first word is one, second word is two, three, four, five\n",
      "The first word is one, second word is two, three, four, five\n"
     ]
    }
   ],
   "source": [
    "def print_words(first, second, third, fourth, fifth):\n",
    "    print(f'The first word is {first}, second word is {second}, {third}, {fourth}, {fifth}')\n",
    "\n",
    "print_words('one', 'two', 'three', 'four', 'five')\n",
    "print_words(fifth='five', third='three', fourth='four', first='one', second='two')"
   ]
  },
  {
   "cell_type": "code",
   "execution_count": 44,
   "metadata": {},
   "outputs": [
    {
     "name": "stdout",
     "output_type": "stream",
     "text": [
      "4\n",
      "8\n"
     ]
    }
   ],
   "source": [
    "def power(number, degree=2):\n",
    "    return number ** degree\n",
    "\n",
    "print(power(2))\n",
    "print(power(2, 3))"
   ]
  },
  {
   "cell_type": "code",
   "execution_count": 54,
   "metadata": {},
   "outputs": [
    {
     "name": "stdout",
     "output_type": "stream",
     "text": [
      "2 3 6 one 444\n",
      "3 5 7 one two\n"
     ]
    }
   ],
   "source": [
    "def example(e, f, g, ff='one', gg='two'):\n",
    "    print(e, f, g, ff, gg)\n",
    "\n",
    "example(2, 3, 6, gg=444)\n",
    "example(3, 5, 7)"
   ]
  },
  {
   "cell_type": "code",
   "execution_count": null,
   "metadata": {},
   "outputs": [],
   "source": [
    "print('string')\n",
    "print('werwer', 'erert', 'werwer')\n",
    "\n",
    "def print(word):\n",
    "    ...\n",
    "\n",
    "def print(word1, wrod2, word3):\n",
    "    ..."
   ]
  },
  {
   "cell_type": "code",
   "execution_count": 58,
   "metadata": {},
   "outputs": [
    {
     "name": "stdout",
     "output_type": "stream",
     "text": [
      "23\n"
     ]
    }
   ],
   "source": [
    "def sum_all(*args):\n",
    "    # print(args)\n",
    "    # result = 0\n",
    "    # for x in args:\n",
    "    #     result += x\n",
    "    # return result\n",
    "    return sum(args)\n",
    "\n",
    "print(sum_all(1, 4, 6, 5, 7))"
   ]
  },
  {
   "cell_type": "code",
   "execution_count": 59,
   "metadata": {},
   "outputs": [
    {
     "name": "stdout",
     "output_type": "stream",
     "text": [
      "Product iphone price is 2500\n",
      "Product laptop price is 1500\n"
     ]
    }
   ],
   "source": [
    "def price_list(title, price):\n",
    "    print(f'Product {title} price is {price}')\n",
    "\n",
    "price_list('iphone', 2500)\n",
    "price_list('laptop', 1500)"
   ]
  },
  {
   "cell_type": "code",
   "execution_count": 68,
   "metadata": {},
   "outputs": [
    {
     "name": "stdout",
     "output_type": "stream",
     "text": [
      "Products prices\n",
      "Product iphone price is 2500\n",
      "Product laptop price is 1500\n",
      "Product samsung price is 2000\n",
      "Product monitor price is 1000\n"
     ]
    }
   ],
   "source": [
    "def price_list(list_title, *args, default_qty=234, **kwargs):\n",
    "    print(list_title)\n",
    "    for title, price in kwargs.items():\n",
    "        print(f'Product {title} price is {price}')\n",
    "\n",
    "\n",
    "price_list('Products prices', iphone=2500, laptop=1500, samsung=2000, monitor=1000)"
   ]
  }
 ],
 "metadata": {
  "kernelspec": {
   "display_name": "Python 3",
   "language": "python",
   "name": "python3"
  },
  "language_info": {
   "codemirror_mode": {
    "name": "ipython",
    "version": 3
   },
   "file_extension": ".py",
   "mimetype": "text/x-python",
   "name": "python",
   "nbconvert_exporter": "python",
   "pygments_lexer": "ipython3",
   "version": "3.10.12"
  }
 },
 "nbformat": 4,
 "nbformat_minor": 2
}
