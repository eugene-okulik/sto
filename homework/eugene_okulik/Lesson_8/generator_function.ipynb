{
 "cells": [
  {
   "cell_type": "markdown",
   "metadata": {},
   "source": [
    "# Generator function"
   ]
  },
  {
   "cell_type": "code",
   "execution_count": 1,
   "metadata": {},
   "outputs": [
    {
     "name": "stdout",
     "output_type": "stream",
     "text": [
      "Text consists on the wrods:Ivan and Ivanov\n"
     ]
    }
   ],
   "source": [
    "def generate_text(text1, text2):\n",
    "    return f'Text consists on the wrods:{text1} and {text2}'\n",
    "    a = 1\n",
    "print(generate_text('Ivan', 'Ivanov'))"
   ]
  },
  {
   "cell_type": "code",
   "execution_count": null,
   "metadata": {},
   "outputs": [],
   "source": [
    "my_list = [1, 2, 5, 7, 4, 9]\n",
    "\n",
    "for x in my_list:\n",
    "    print(x)"
   ]
  },
  {
   "cell_type": "code",
   "execution_count": null,
   "metadata": {},
   "outputs": [],
   "source": [
    "n = 2\n",
    "\n",
    "progression = []\n",
    "num = 1\n",
    "while len(progression) < 100000000000000:\n",
    "    progression.append(num)\n",
    "    num += n"
   ]
  },
  {
   "cell_type": "code",
   "execution_count": 16,
   "metadata": {},
   "outputs": [
    {
     "name": "stdout",
     "output_type": "stream",
     "text": [
      "1999999\n"
     ]
    }
   ],
   "source": [
    "def progression(limit=100):\n",
    "    n = 2\n",
    "    num = 1\n",
    "    count = 1\n",
    "    while count < limit:\n",
    "        yield num\n",
    "        num += n\n",
    "        count += 1\n",
    "\n",
    "# for number in progression(10):\n",
    "#     print(number)\n",
    "# print(list(progression(10)))\n",
    "\n",
    "count = 1\n",
    "for number in progression(10000000000000000000000000000000000000000):\n",
    "    if count == 1000000:\n",
    "        print(number)\n",
    "        break\n",
    "    count += 1"
   ]
  }
 ],
 "metadata": {
  "kernelspec": {
   "display_name": "Python 3",
   "language": "python",
   "name": "python3"
  },
  "language_info": {
   "codemirror_mode": {
    "name": "ipython",
    "version": 3
   },
   "file_extension": ".py",
   "mimetype": "text/x-python",
   "name": "python",
   "nbconvert_exporter": "python",
   "pygments_lexer": "ipython3",
   "version": "3.10.12"
  },
  "orig_nbformat": 4
 },
 "nbformat": 4,
 "nbformat_minor": 2
}
