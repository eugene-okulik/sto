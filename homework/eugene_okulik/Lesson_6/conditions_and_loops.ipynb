{
 "cells": [
  {
   "cell_type": "markdown",
   "metadata": {},
   "source": [
    "# Условия"
   ]
  },
  {
   "cell_type": "code",
   "execution_count": 10,
   "metadata": {},
   "outputs": [
    {
     "name": "stdout",
     "output_type": "stream",
     "text": [
      "Enter a number please\n"
     ]
    }
   ],
   "source": [
    "user_input = input('your number: ')\n",
    "\n",
    "if user_input.isnumeric():\n",
    "    user_input = int(user_input)\n",
    "    if user_input == 1:\n",
    "        print('One')\n",
    "    elif user_input == 2:\n",
    "        print('two')\n",
    "    elif user_input == 3:\n",
    "        print('three')\n",
    "    else:\n",
    "        print('many')\n",
    "else:\n",
    "    print('Enter a number please')"
   ]
  },
  {
   "cell_type": "code",
   "execution_count": 7,
   "metadata": {},
   "outputs": [
    {
     "name": "stdout",
     "output_type": "stream",
     "text": [
      "many\n"
     ]
    }
   ],
   "source": [
    "user_input = int(input('your number: '))\n",
    "\n",
    "if user_input == 1:\n",
    "    print('One')\n",
    "\n",
    "if user_input == 2:\n",
    "    print('two')\n",
    "\n",
    "if user_input not in [1, 2]:\n",
    "    print('many')"
   ]
  },
  {
   "cell_type": "code",
   "execution_count": null,
   "metadata": {},
   "outputs": [],
   "source": [
    "if user_input > 0:\n",
    "    if user_input > 1:\n",
    "        if user_input == 2:\n",
    "            print()\n",
    "        elif user_input == 3:\n",
    "            if 1 == 1:\n",
    "                print()\n",
    "            elif 2 == 2:\n",
    "                print()\n",
    "    elif 3 == 3:\n",
    "        print()"
   ]
  },
  {
   "cell_type": "markdown",
   "metadata": {},
   "source": [
    "# Loops - циклы"
   ]
  },
  {
   "cell_type": "markdown",
   "metadata": {},
   "source": [
    "### for loop - Цикл for"
   ]
  },
  {
   "cell_type": "code",
   "execution_count": 15,
   "metadata": {},
   "outputs": [
    {
     "name": "stdout",
     "output_type": "stream",
     "text": [
      "['John', 'Tim', 'James', 'Bob', 'Jim', 'Bill']\n",
      "John\n",
      "Tim\n",
      "James\n",
      "Bob\n",
      "Jim\n",
      "John\n",
      "Tim\n",
      "James\n",
      "Bob\n",
      "Jim\n",
      "Bill\n",
      "the end\n"
     ]
    }
   ],
   "source": [
    "names = ['John', 'Tim', 'James', 'Bob', 'Jim', 'Bill']\n",
    "print(names)\n",
    "print(names[0])\n",
    "print(names[1])\n",
    "print(names[2])\n",
    "print(names[3])\n",
    "print(names[4])\n",
    "\n",
    "for name in names:\n",
    "    print(name)\n",
    "\n",
    "print('the end')"
   ]
  },
  {
   "cell_type": "code",
   "execution_count": 22,
   "metadata": {},
   "outputs": [
    {
     "name": "stdout",
     "output_type": "stream",
     "text": [
      "Mr. John\n",
      "TIm\n",
      "Mr. James\n",
      "Bob\n",
      "Mr. JIm\n",
      "BIll\n"
     ]
    }
   ],
   "source": [
    "names = ['John', 'Tim', 'James', 'Bob', 'Jim', 'Bill']\n",
    "\n",
    "\n",
    "for name in names:\n",
    "    name = name.replace('i', 'I')\n",
    "    if name.startswith('J'):\n",
    "        print('Mr.', end=' ')\n",
    "    print(name)\n",
    "\n"
   ]
  },
  {
   "cell_type": "code",
   "execution_count": null,
   "metadata": {},
   "outputs": [],
   "source": [
    "names = ('John', 'Tim', 'James', 'Bob', 'Jim', 'Bill')\n",
    "for name in names:\n",
    "    print(name)"
   ]
  },
  {
   "cell_type": "code",
   "execution_count": null,
   "metadata": {},
   "outputs": [],
   "source": [
    "names = {'John', 'Tim', 'James', 'Bob', 'Jim', 'Bill'}\n",
    "for name in names:\n",
    "    print(name)"
   ]
  },
  {
   "cell_type": "code",
   "execution_count": 23,
   "metadata": {},
   "outputs": [
    {
     "name": "stdout",
     "output_type": "stream",
     "text": [
      "John\n",
      "Tom\n",
      "James\n"
     ]
    }
   ],
   "source": [
    "persons = {'John': 132, 'Tom': 167, 'James': 234}\n",
    "for person in persons:\n",
    "    print(person)"
   ]
  },
  {
   "cell_type": "code",
   "execution_count": 24,
   "metadata": {},
   "outputs": [
    {
     "name": "stdout",
     "output_type": "stream",
     "text": [
      "dict_keys(['John', 'Tom', 'James'])\n",
      "John\n",
      "Tom\n",
      "James\n"
     ]
    }
   ],
   "source": [
    "persons = {'John': 132, 'Tom': 167, 'James': 234}\n",
    "print(persons.keys())\n",
    "for person in persons.keys():\n",
    "    print(person)"
   ]
  },
  {
   "cell_type": "code",
   "execution_count": 25,
   "metadata": {},
   "outputs": [
    {
     "name": "stdout",
     "output_type": "stream",
     "text": [
      "dict_values([132, 167, 234])\n",
      "132\n",
      "167\n",
      "234\n"
     ]
    }
   ],
   "source": [
    "persons = {'John': 132, 'Tom': 167, 'James': 234}\n",
    "print(persons.values())\n",
    "for person in persons.values():\n",
    "    print(person)"
   ]
  },
  {
   "cell_type": "code",
   "execution_count": 29,
   "metadata": {},
   "outputs": [
    {
     "name": "stdout",
     "output_type": "stream",
     "text": [
      "John: 132\n",
      "Tom: 167\n",
      "James: 234\n"
     ]
    }
   ],
   "source": [
    "persons = {'John': 132, 'Tom': 167, 'James': 234}\n",
    "for person in persons:\n",
    "    print(f'{person}: {persons[person]}')"
   ]
  },
  {
   "cell_type": "code",
   "execution_count": 35,
   "metadata": {},
   "outputs": [
    {
     "name": "stdout",
     "output_type": "stream",
     "text": [
      "John: 132\n",
      "Tom: 167\n",
      "James: 234\n"
     ]
    }
   ],
   "source": [
    "persons = {'John': 132, 'Tom': 167, 'James': 234}\n",
    "for name, height in persons.items():\n",
    "    print(f'{name}: {height}')"
   ]
  },
  {
   "cell_type": "markdown",
   "metadata": {},
   "source": [
    "Распечатать все слова, в которых есть бука \"о\" и выбросить из текста, текст в конце рапечатать."
   ]
  },
  {
   "cell_type": "code",
   "execution_count": 40,
   "metadata": {},
   "outputs": [
    {
     "name": "stdout",
     "output_type": "stream",
     "text": [
      "justo\n",
      "commodo\n",
      "Sed vitae malesuada, libero eu, bibendum mauris.\n"
     ]
    }
   ],
   "source": [
    "text = 'Sed vitae justo malesuada, commodo libero eu, bibendum mauris.'\n",
    "\n",
    "words = text.split()\n",
    "fin_words = []\n",
    "for word in words:\n",
    "    if 'o' in word:\n",
    "        print(word)\n",
    "        # words.remove(word)\n",
    "    else:\n",
    "        fin_words.append(word)\n",
    "\n",
    "print(' '.join(words))"
   ]
  }
 ],
 "metadata": {
  "kernelspec": {
   "display_name": "Python 3",
   "language": "python",
   "name": "python3"
  },
  "language_info": {
   "codemirror_mode": {
    "name": "ipython",
    "version": 3
   },
   "file_extension": ".py",
   "mimetype": "text/x-python",
   "name": "python",
   "nbconvert_exporter": "python",
   "pygments_lexer": "ipython3",
   "version": "3.10.12"
  }
 },
 "nbformat": 4,
 "nbformat_minor": 2
}
