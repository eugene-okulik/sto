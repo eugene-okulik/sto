{
 "cells": [
  {
   "cell_type": "markdown",
   "metadata": {},
   "source": [
    "### Распаковка\n",
    "Используется для того, чтобы распределить элементы коллекции (список, словарь, множество, кортеж) по отдельным переменным.  \n",
    "Используется только в ситуациях, когда вы наверняка знаете количество элементов, содержащихся в коллекции."
   ]
  },
  {
   "cell_type": "code",
   "execution_count": 7,
   "metadata": {},
   "outputs": [
    {
     "name": "stdout",
     "output_type": "stream",
     "text": [
      "1 3 2 6 9\n"
     ]
    }
   ],
   "source": [
    "my_list = [1, 3]\n",
    "my_tuple = (2, 6, 9)\n",
    "# a = my_list[0]\n",
    "# b = my_list[1]\n",
    "# c = my_tuple[0]\n",
    "# d = my_tuple[1]\n",
    "# e = my_tuple[2]\n",
    "a, b = my_list\n",
    "c, d, e = my_tuple\n",
    "print(a, b, c, d, e)"
   ]
  },
  {
   "cell_type": "markdown",
   "metadata": {},
   "source": [
    "### Срез  \n",
    "Извлечение среза позволяет взять из списка определенную его часть"
   ]
  },
  {
   "cell_type": "code",
   "execution_count": 17,
   "metadata": {},
   "outputs": [
    {
     "name": "stdout",
     "output_type": "stream",
     "text": [
      "[1, 3, 5, 2, 5, 7, 1, 3]\n",
      "[3, 5, 2]\n",
      "[1, 3, 5, 2]\n",
      "[2, 5, 7, 1, 3]\n",
      "[3, 2, 7, 3]\n",
      "[1, 3, 5, 2, 5, 7, 1, 3]\n",
      "[3, 1, 7, 5, 2, 5, 3, 1]\n",
      "[3, 7, 2, 3]\n",
      "[1, 7, 5, 2]\n"
     ]
    }
   ],
   "source": [
    "lll = [1, 3, 5, 2, 5, 7 ,1, 3]\n",
    "print(lll)\n",
    "print(lll[1:4])\n",
    "print(lll[:4])\n",
    "print(lll[3:])\n",
    "print(lll[1::2])\n",
    "print(lll[:])\n",
    "print(lll[::-1])\n",
    "print(lll[::-2])\n",
    "print(lll[-2:-6:-1])"
   ]
  },
  {
   "cell_type": "markdown",
   "metadata": {},
   "source": [
    "## Методы строк\n",
    "Со строкой можно делать многое из того, что можно делать с другими коллекциями, т.к. строка это по сути тоже коллекция - последовательность символов. Больше всего функциональность строки похожа на функциональность кортежей."
   ]
  },
  {
   "cell_type": "code",
   "execution_count": 38,
   "metadata": {},
   "outputs": [
    {
     "name": "stdout",
     "output_type": "stream",
     "text": [
      "l\n",
      "19\n",
      "3\n",
      "True\n",
      "3\n",
      "2\n",
      "-1\n",
      "my long\n",
      "True\n",
      "True\n"
     ]
    }
   ],
   "source": [
    "text = 'my long long string'\n",
    "print(text[3])\n",
    "print(len(text))\n",
    "print(text.index('long'))\n",
    "print('long' in text)\n",
    "print(text.count('n'))\n",
    "print(text.count('long'))\n",
    "print(text.find('lone'))\n",
    "print(text[:7])\n",
    "print(text.startswith('my'))\n",
    "print(text.endswith('string'))"
   ]
  },
  {
   "cell_type": "code",
   "execution_count": 39,
   "metadata": {},
   "outputs": [
    {
     "name": "stdout",
     "output_type": "stream",
     "text": [
      "This text with messed up capitalization!\n",
      "This Text With Messed Up Capitalization!\n",
      "THIS TEXT WITH MESSED UP CAPITALIZATION!\n",
      "this text with messed up capitalization!\n"
     ]
    }
   ],
   "source": [
    "txt = \"ThIs tExt wiTh meSsEd uP CaPITalIZatiOn!\"\n",
    "print(txt.capitalize()) # Делает первую букву предложения заглавной\n",
    "print(txt.title())  # Делает каждую первую букву заглавной\n",
    "print(txt.upper())  # Делает все буквы большими\n",
    "print(txt.lower())  # Делает все буквы маленькими"
   ]
  },
  {
   "cell_type": "code",
   "execution_count": 45,
   "metadata": {},
   "outputs": [
    {
     "name": "stdout",
     "output_type": "stream",
     "text": [
      "my long long STRING\n"
     ]
    }
   ],
   "source": [
    "text = 'mY lOng loNg STRING'\n",
    "string_index = text.lower().index('string')\n",
    "print(text[:string_index].lower() + text[string_index:].upper())"
   ]
  },
  {
   "cell_type": "code",
   "execution_count": 47,
   "metadata": {},
   "outputs": [
    {
     "name": "stdout",
     "output_type": "stream",
     "text": [
      "Hello universe!\n"
     ]
    }
   ],
   "source": [
    "msg = 'Hello world!'\n",
    "msg = msg.replace('world', 'universe')\n",
    "print(msg)"
   ]
  },
  {
   "cell_type": "code",
   "execution_count": 48,
   "metadata": {},
   "outputs": [
    {
     "name": "stdout",
     "output_type": "stream",
     "text": [
      "12.3\n"
     ]
    }
   ],
   "source": [
    "data = '12,3'\n",
    "data = data.replace(',', '.')\n",
    "print(data)"
   ]
  },
  {
   "cell_type": "code",
   "execution_count": 56,
   "metadata": {},
   "outputs": [
    {
     "name": "stdout",
     "output_type": "stream",
     "text": [
      " admin\n",
      "name\n"
     ]
    }
   ],
   "source": [
    "txt = ' admin '\n",
    "# txt = txt.replace(' ', '')\n",
    "# txt = txt.strip()\n",
    "# txt = txt.lstrip()\n",
    "txt = txt.rstrip()\n",
    "print(txt)\n",
    "text = '\"name\"'\n",
    "text = text.strip('\"')\n",
    "print(text)"
   ]
  },
  {
   "cell_type": "markdown",
   "metadata": {},
   "source": [
    "# Строка ←→ список"
   ]
  },
  {
   "cell_type": "code",
   "execution_count": 58,
   "metadata": {},
   "outputs": [
    {
     "name": "stdout",
     "output_type": "stream",
     "text": [
      "['some', 'little', 'text']\n",
      "['some', 'little', 'text']\n"
     ]
    }
   ],
   "source": [
    "my_string = 'some little text'\n",
    "my_string2 = 'some,little,text'\n",
    "list_from_text = my_string.split()\n",
    "list_from_text2 = my_string2.split(',')\n",
    "print(list_from_text)\n",
    "print(list_from_text2)"
   ]
  },
  {
   "cell_type": "code",
   "execution_count": 62,
   "metadata": {},
   "outputs": [
    {
     "name": "stdout",
     "output_type": "stream",
     "text": [
      "['Python', 'Java', 'Ruby']\n",
      "['Python', 'Java', 'Ruby']\n",
      "Student knows these languages: Python, Java, Ruby\n"
     ]
    }
   ],
   "source": [
    "languages = ['Python', 'Java', 'Ruby']\n",
    "print(languages)\n",
    "# languages = ', '.join(languages)\n",
    "print(languages)\n",
    "print('Student knows these languages:', ', '.join(languages))\n"
   ]
  },
  {
   "cell_type": "markdown",
   "metadata": {},
   "source": [
    "# Форматирование строки"
   ]
  },
  {
   "cell_type": "code",
   "execution_count": 76,
   "metadata": {},
   "outputs": [
    {
     "name": "stdout",
     "output_type": "stream",
     "text": [
      "First word is one , second word is two\n",
      "First word is one, second word is two\n",
      "First word is one, second word is two\n",
      "First word is one, second word is two\n",
      "First word is two, second word is one\n",
      "First word is {a}, second word is two\n"
     ]
    }
   ],
   "source": [
    "a = 'one'\n",
    "b = 'two'\n",
    "print('First word is', a, ', second word is', b)\n",
    "\n",
    "\n",
    "my_text = 'First word is ' + a + ', second word is ' + b\n",
    "print(my_text)\n",
    "\n",
    "my_text = 'First word is %s, second word is %s'\n",
    "print(my_text % (a, b))\n",
    "\n",
    "#string format\n",
    "my_text = 'First word is {}, second word is {}'\n",
    "print(my_text.format(a, b))\n",
    "\n",
    "my_text = 'First word is {1}, second word is {0}'\n",
    "print(my_text.format(a, b))\n",
    "\n",
    "#f-string\n",
    "my_text = f'First word is {{a}}, second word is {b}'\n",
    "print(my_text)"
   ]
  },
  {
   "cell_type": "code",
   "execution_count": 75,
   "metadata": {},
   "outputs": [
    {
     "name": "stdout",
     "output_type": "stream",
     "text": [
      "Hello, Tom!\n",
      "Hello, Tim!\n"
     ]
    }
   ],
   "source": [
    "template = 'Hello, {0}!'\n",
    "# print(f'Hello, {username}!')\n",
    "username = input('What is your name?')\n",
    "\n",
    "print(template.format(username))"
   ]
  },
  {
   "cell_type": "code",
   "execution_count": 86,
   "metadata": {},
   "outputs": [
    {
     "name": "stdout",
     "output_type": "stream",
     "text": [
      "First word is {}, second word is asd\n",
      "First word is qqqqq, second word is asd\n"
     ]
    }
   ],
   "source": [
    "a = 'qwe'\n",
    "b = 'asd'\n",
    "\n",
    "my_text = 'First word is {{}}, second word is {}'\n",
    "print_text = my_text.format(b)\n",
    "print(print_text)\n",
    "\n",
    "print(print_text.format('qqqqq'))"
   ]
  }
 ],
 "metadata": {
  "kernelspec": {
   "display_name": "Python 3",
   "language": "python",
   "name": "python3"
  },
  "language_info": {
   "codemirror_mode": {
    "name": "ipython",
    "version": 3
   },
   "file_extension": ".py",
   "mimetype": "text/x-python",
   "name": "python",
   "nbconvert_exporter": "python",
   "pygments_lexer": "ipython3",
   "version": "3.10.12"
  }
 },
 "nbformat": 4,
 "nbformat_minor": 2
}
