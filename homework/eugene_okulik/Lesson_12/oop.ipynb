{
 "cells": [
  {
   "cell_type": "markdown",
   "metadata": {},
   "source": [
    "# ООП(OOP) - Объектно ориентированное программирование"
   ]
  },
  {
   "cell_type": "markdown",
   "metadata": {},
   "source": [
    "Приципы ООП:\n",
    "\n",
    "- Инкапсуляция (Encapsulation)\n",
    "- Наследование (inheritance)\n",
    "- Полиморфизм (Polymorphism)"
   ]
  },
  {
   "cell_type": "markdown",
   "metadata": {},
   "source": [
    "### Инкапсуляция\n",
    "Все данные объекта должны хранится в объекте. Никто не может изменить данные объекта без его ведома."
   ]
  },
  {
   "cell_type": "markdown",
   "metadata": {},
   "source": [
    "### Наследование\n",
    "Объекты и их типы организуют иерархию типов. Дочерние типы наследуют свою функциональность от родительского класса, расширяя и дополняя её."
   ]
  },
  {
   "cell_type": "markdown",
   "metadata": {},
   "source": [
    "### Полиморфизм\n",
    "Способность классов менять своё поведение в зависимости от типов операций и операндов. Полиморфизм в программировании реализуется через перегрузку метода, либо через его переопределение."
   ]
  },
  {
   "cell_type": "code",
   "execution_count": 1,
   "metadata": {},
   "outputs": [],
   "source": [
    "from abc import abstractmethod\n",
    "\n",
    "\n",
    "class Group:\n",
    "    pupils = True\n",
    "    school_name = 42\n",
    "    director = 'Marivanna'\n",
    "\n",
    "    def __init__(self, title, pupils_count, group_leader):\n",
    "        self.title = title\n",
    "        self.pupils_count = pupils_count\n",
    "        self.group_leader = group_leader\n",
    "\n",
    "\n",
    "    def study(self):\n",
    "        print('sit down and read')\n",
    "\n",
    "    @abstractmethod\n",
    "    def move(self):\n",
    "        pass\n",
    "\n",
    "\n",
    "class PrimaryGroup(Group):\n",
    "    max_age = 11\n",
    "    min_age = 6\n",
    "    building_section = 'left'\n",
    "\n",
    "    def __init__(self, title, pupils_count, group_leader, class_room):\n",
    "        super().__init__(title, pupils_count, group_leader)\n",
    "        self.class_room = class_room\n",
    "\n",
    "    def move(self):\n",
    "        print('Run fast')\n",
    "\n",
    "\n",
    "class HighGroup(Group):\n",
    "    max_age = 18\n",
    "    min_age = 14\n",
    "\n",
    "    def move(self):\n",
    "        print('Go slowly')\n",
    "\n",
    "class MediumGroup(Group):\n",
    "    max_age = 15\n",
    "    min_age = 10"
   ]
  },
  {
   "cell_type": "code",
   "execution_count": 2,
   "metadata": {},
   "outputs": [
    {
     "name": "stdout",
     "output_type": "stream",
     "text": [
      "1000000\n"
     ]
    }
   ],
   "source": [
    "first_a = PrimaryGroup('1 A', 15, 'SD', 112)\n",
    "first_a.class_room = 1000000\n",
    "print(first_a.class_room)"
   ]
  },
  {
   "cell_type": "code",
   "execution_count": null,
   "metadata": {},
   "outputs": [],
   "source": [
    "# data1.txt\n",
    "{\"Country\": \"Turkey\", \"avg_temp\": 30}\n",
    "# data2.txt\n",
    "{\"Country\": \"Greece\", \"avg_temp\": 28}"
   ]
  },
  {
   "cell_type": "code",
   "execution_count": 14,
   "metadata": {},
   "outputs": [
    {
     "name": "stdout",
     "output_type": "stream",
     "text": [
      "Turkey\n",
      "30\n",
      "Greece\n",
      "28\n"
     ]
    }
   ],
   "source": [
    "import json\n",
    "\n",
    "def read_file(filename):\n",
    "    file_data = open(filename, 'r')\n",
    "    # data = file_data.read()\n",
    "    data = json.load(file_data)\n",
    "    file_data.close()\n",
    "    return data\n",
    "\n",
    "data1 = read_file('data1.txt')\n",
    "data2 = read_file('data2.txt')\n",
    "\n",
    "print(data1['Country'])\n",
    "print(data1['avg_temp'])\n",
    "print(data2['Country'])\n",
    "print(data2['avg_temp'])"
   ]
  },
  {
   "cell_type": "code",
   "execution_count": 20,
   "metadata": {},
   "outputs": [],
   "source": [
    "import json\n",
    "\n",
    "\n",
    "class CountryData:\n",
    "    def __init__(self, filename):\n",
    "        self.__filename = filename\n",
    "        self.__data = self.__read_file()\n",
    "        self.__country = self.__data['Country']\n",
    "        self.__avg_temp = self.__data['avg_temp']\n",
    "        self._comfort = self.__is_comfort()\n",
    "\n",
    "    @property\n",
    "    def data(self):\n",
    "        return self.__data\n",
    "\n",
    "    @property\n",
    "    def country(self):\n",
    "        return self.__country\n",
    "\n",
    "    @property\n",
    "    def avg_temp(self):\n",
    "        return self.__avg_temp\n",
    "\n",
    "    @property\n",
    "    def comfort(self):\n",
    "        return self._comfort\n",
    "\n",
    "    @comfort.setter\n",
    "    def comfort(self, value):\n",
    "        self._comfort = value\n",
    "\n",
    "    def __read_file(self):\n",
    "        file_data = open(self.__filename, 'r')\n",
    "        data = json.load(file_data)\n",
    "        file_data.close()\n",
    "        return data\n",
    "\n",
    "    def __is_comfort(self):\n",
    "        return self.__avg_temp > 25\n",
    "    \n",
    "    def __str__(self):\n",
    "        return f'str File {self.__filename} with data {self.__data}'\n",
    "    \n",
    "    def __repr__(self):\n",
    "        return f'repr File {self.__filename} with data {self.__data}'\n",
    "    \n",
    "    def __lt__(self, obj):\n",
    "        return self.avg_temp < obj.avg_temp\n",
    "    \n",
    "    def __le__(self, obj):\n",
    "        return self.avg_temp <= obj.avg_temp\n",
    "    \n",
    "    def __add__(self, obj):\n",
    "        return [self, obj]"
   ]
  },
  {
   "cell_type": "code",
   "execution_count": 21,
   "metadata": {},
   "outputs": [
    {
     "name": "stdout",
     "output_type": "stream",
     "text": [
      "False\n",
      "{'Country': 'Turkey', 'avg_temp': 30}\n",
      "{'Country': 'Turkey', 'avg_temp': 30}\n",
      "Turkey\n",
      "Greece\n",
      "30\n"
     ]
    }
   ],
   "source": [
    "data1 = CountryData('data1.txt')\n",
    "data1.comfort = False\n",
    "print(data1.comfort)\n",
    "# data1.data = 'skdfjhskdjf'\n",
    "print(data1.data)\n",
    "# data1.__data = {'1': 5}\n",
    "print(data1.data)\n",
    "print(data1.country)\n",
    "# print(data1.avg_temp)\n",
    "data2 = CountryData('data2.txt')\n",
    "print(data2.country)\n",
    "data1.__avg_temp = 2342342\n",
    "print(data1.avg_temp)"
   ]
  },
  {
   "cell_type": "code",
   "execution_count": null,
   "metadata": {},
   "outputs": [],
   "source": [
    "# data3.txt\n",
    "{\"Country\": \"Poland\", \"avg_temp\": 15, \"min_temp\": 2}"
   ]
  },
  {
   "cell_type": "code",
   "execution_count": 25,
   "metadata": {},
   "outputs": [
    {
     "name": "stdout",
     "output_type": "stream",
     "text": [
      "15\n",
      "2\n"
     ]
    }
   ],
   "source": [
    "class CountryDataWithMinTemp(CountryData):\n",
    "    def __init__(self, filename):\n",
    "        super().__init__(filename)\n",
    "        self.min_temp = self.data['min_temp']\n",
    "\n",
    "\n",
    "data3 = CountryDataWithMinTemp('data3.txt')\n",
    "print(data3.avg_temp)\n",
    "print(data3.min_temp)"
   ]
  },
  {
   "cell_type": "code",
   "execution_count": 22,
   "metadata": {},
   "outputs": [
    {
     "name": "stdout",
     "output_type": "stream",
     "text": [
      "str File data1.txt with data {'Country': 'Turkey', 'avg_temp': 30}\n",
      "False\n",
      "False\n",
      "True\n",
      "True\n",
      "[repr File data1.txt with data {'Country': 'Turkey', 'avg_temp': 30}, repr File data2.txt with data {'Country': 'Greece', 'avg_temp': 28}]\n"
     ]
    }
   ],
   "source": [
    "\n",
    "print(data1)  # print(str(data1))\n",
    "print(data1 < data2)\n",
    "print(data1 <= data2)\n",
    "print(data1 > data2)\n",
    "print(data1 >= data2)\n",
    "print(data1 + data2)"
   ]
  },
  {
   "cell_type": "code",
   "execution_count": 46,
   "metadata": {},
   "outputs": [
    {
     "name": "stdout",
     "output_type": "stream",
     "text": [
      "hello\n"
     ]
    },
    {
     "data": {
      "text/plain": [
       "'hello'"
      ]
     },
     "execution_count": 46,
     "metadata": {},
     "output_type": "execute_result"
    }
   ],
   "source": [
    "class MyClass:\n",
    "    @property\n",
    "    def my_word(self):\n",
    "        return 'hello'\n",
    "    \n",
    "    def act(self):\n",
    "        print('hello')\n",
    "    \n",
    "\n",
    "qqq = MyClass()\n",
    "qqq.act()\n",
    "qqq.my_word\n",
    "\n"
   ]
  }
 ],
 "metadata": {
  "kernelspec": {
   "display_name": "Python 3",
   "language": "python",
   "name": "python3"
  },
  "language_info": {
   "codemirror_mode": {
    "name": "ipython",
    "version": 3
   },
   "file_extension": ".py",
   "mimetype": "text/x-python",
   "name": "python",
   "nbconvert_exporter": "python",
   "pygments_lexer": "ipython3",
   "version": "3.10.12"
  }
 },
 "nbformat": 4,
 "nbformat_minor": 2
}
