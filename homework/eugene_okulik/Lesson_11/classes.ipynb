{
 "cells": [
  {
   "cell_type": "markdown",
   "metadata": {},
   "source": [
    "Classes"
   ]
  },
  {
   "cell_type": "code",
   "execution_count": 19,
   "metadata": {},
   "outputs": [],
   "source": [
    "from abc import abstractmethod\n",
    "\n",
    "\n",
    "class Group:\n",
    "    pupils = True\n",
    "    school_name = 42\n",
    "    director = 'Marivanna'\n",
    "\n",
    "    def __init__(self, title, pupils_count, group_leader):\n",
    "        self.title = title\n",
    "        self.pupils_count = pupils_count\n",
    "        self.group_leader = group_leader\n",
    "\n",
    "\n",
    "    def study(self):\n",
    "        print('sit down and read')\n",
    "\n",
    "    @abstractmethod\n",
    "    def move(self):\n",
    "        pass\n",
    "\n",
    "\n",
    "class PrimaryGroup(Group):\n",
    "    max_age = 11\n",
    "    min_age = 6\n",
    "    building_section = 'left'\n",
    "\n",
    "    def __init__(self, title, pupils_count, group_leader, class_room):\n",
    "        super().__init__(title, pupils_count, group_leader)\n",
    "        self.class_room = class_room\n",
    "\n",
    "    def move(self):\n",
    "        print('Run fast')\n",
    "\n",
    "\n",
    "class HighGroup(Group):\n",
    "    max_age = 18\n",
    "    min_age = 14\n",
    "\n",
    "    def move(self):\n",
    "        print('Go slowly')\n",
    "\n",
    "class MediumGroup(Group):\n",
    "    max_age = 15\n",
    "    min_age = 10\n"
   ]
  },
  {
   "cell_type": "markdown",
   "metadata": {},
   "source": [
    "объект класса = объект типа = представитель класса = экземпляр класса"
   ]
  },
  {
   "cell_type": "code",
   "execution_count": 22,
   "metadata": {},
   "outputs": [
    {
     "name": "stdout",
     "output_type": "stream",
     "text": [
      "18\n",
      "5\n",
      "1b\n",
      "1a\n",
      "True\n",
      "left\n",
      "Marivanna\n",
      "11\n",
      "6\n",
      "42\n",
      "True\n",
      "Marivanna\n",
      "18\n",
      "14\n",
      "42\n",
      "sit down and read\n",
      "sit down and read\n",
      "Run fast\n",
      "Go slowly\n"
     ]
    }
   ],
   "source": [
    "first_a = PrimaryGroup('1a', 18, 'MF', 5)\n",
    "first_b = PrimaryGroup('1b', 20, 'TD', 8)\n",
    "\n",
    "eleven_a = HighGroup('11a', 22, 'AR')\n",
    "six_a = MediumGroup('6a', 25, 'RI')\n",
    "\n",
    "\n",
    "print(first_a.pupils_count)\n",
    "print(first_a.class_room)\n",
    "print(first_b.title)\n",
    "print(first_a.title)\n",
    "print(first_a.pupils)\n",
    "print(first_a.building_section)\n",
    "print(first_a.director)\n",
    "print(first_a.max_age)\n",
    "print(first_a.min_age)\n",
    "print(first_a.school_name)\n",
    "print(eleven_a.pupils)\n",
    "# print(eleven_a.building_section)\n",
    "print(eleven_a.director)\n",
    "print(eleven_a.max_age)\n",
    "print(eleven_a.min_age)\n",
    "print(eleven_a.school_name)\n",
    "first_a.study()\n",
    "eleven_a.study()\n",
    "first_a.move()\n",
    "eleven_a.move()\n",
    "six_a.move()"
   ]
  }
 ],
 "metadata": {
  "kernelspec": {
   "display_name": "Python 3",
   "language": "python",
   "name": "python3"
  },
  "language_info": {
   "codemirror_mode": {
    "name": "ipython",
    "version": 3
   },
   "file_extension": ".py",
   "mimetype": "text/x-python",
   "name": "python",
   "nbconvert_exporter": "python",
   "pygments_lexer": "ipython3",
   "version": "3.10.12"
  }
 },
 "nbformat": 4,
 "nbformat_minor": 2
}
