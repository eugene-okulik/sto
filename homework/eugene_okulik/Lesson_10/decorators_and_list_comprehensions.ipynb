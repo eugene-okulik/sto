{
 "cells": [
  {
   "cell_type": "markdown",
   "metadata": {},
   "source": [
    "Decorators"
   ]
  },
  {
   "cell_type": "code",
   "execution_count": 6,
   "metadata": {},
   "outputs": [
    {
     "name": "stdout",
     "output_type": "stream",
     "text": [
      "2\n",
      "<function calc at 0x7fa818414f70>\n",
      "<function calc at 0x7fa818414f70>\n",
      "2\n"
     ]
    }
   ],
   "source": [
    "def calc():\n",
    "    print(1 + 1)\n",
    "\n",
    "calc()\n",
    "print(calc)\n",
    "new_calc = calc\n",
    "print(new_calc)\n",
    "new_calc()\n",
    "a = 1"
   ]
  },
  {
   "cell_type": "code",
   "execution_count": 7,
   "metadata": {},
   "outputs": [
    {
     "name": "stdout",
     "output_type": "stream",
     "text": [
      "hello\n"
     ]
    }
   ],
   "source": [
    "def greet():\n",
    "\n",
    "    def hello():\n",
    "        return 'hello'\n",
    "    \n",
    "    return hello()\n",
    "\n",
    "print(greet())"
   ]
  },
  {
   "cell_type": "code",
   "execution_count": 12,
   "metadata": {},
   "outputs": [
    {
     "name": "stdout",
     "output_type": "stream",
     "text": [
      "7\n",
      "7\n"
     ]
    }
   ],
   "source": [
    "def outer():\n",
    "\n",
    "    def inner():\n",
    "        result = 2 + 5\n",
    "        return result\n",
    "    \n",
    "    return inner\n",
    "\n",
    "\n",
    "print(outer()())\n",
    "inner_function = outer()\n",
    "print(inner_function())"
   ]
  },
  {
   "cell_type": "code",
   "execution_count": 14,
   "metadata": {},
   "outputs": [
    {
     "name": "stdout",
     "output_type": "stream",
     "text": [
      "simple1\n",
      "simple2\n",
      "before\n",
      "simple1\n",
      "after\n",
      "before\n",
      "simple2\n",
      "after\n",
      "before\n",
      "I\n",
      "love\n",
      "Python\n",
      "and\n",
      "decorators\n",
      "after\n"
     ]
    }
   ],
   "source": [
    "def func1(give_me_a_func):\n",
    "    print('before')\n",
    "    give_me_a_func()\n",
    "    print('after')\n",
    "\n",
    "\n",
    "def simple1():\n",
    "    print('simple1')\n",
    "\n",
    "def simple2():\n",
    "    print('simple2')\n",
    "\n",
    "simple1()\n",
    "simple2()\n",
    "\n",
    "func1(simple1)\n",
    "func1(simple2)\n",
    "\n",
    "def simple3():\n",
    "    print('I')\n",
    "    print('love')\n",
    "    print('Python')\n",
    "    print('and')\n",
    "    print('decorators')\n",
    "\n",
    "func1(simple3)"
   ]
  },
  {
   "cell_type": "code",
   "execution_count": 16,
   "metadata": {},
   "outputs": [
    {
     "name": "stdout",
     "output_type": "stream",
     "text": [
      "simple1\n",
      "<function add_text.<locals>.wrapper at 0x7fa8184145e0>\n",
      "before\n",
      "simple1\n",
      "after\n",
      "simple2\n",
      "before\n",
      "simple2\n",
      "after\n"
     ]
    }
   ],
   "source": [
    "def add_text(func):\n",
    "\n",
    "    def wrapper():\n",
    "        print('before')\n",
    "        func()\n",
    "        print('after')\n",
    "\n",
    "    return wrapper\n",
    "\n",
    "\n",
    "def simple1():\n",
    "    print('simple1')\n",
    "\n",
    "simple1()\n",
    "\n",
    "simple1 = add_text(simple1)\n",
    "\n",
    "print(simple1)\n",
    "simple1()\n",
    "    \n",
    "\n",
    "def simple2():\n",
    "    print('simple2')\n",
    "\n",
    "simple2()\n",
    "\n",
    "simple2 = add_text(simple2)\n",
    "\n",
    "simple2()"
   ]
  },
  {
   "cell_type": "code",
   "execution_count": 18,
   "metadata": {},
   "outputs": [
    {
     "name": "stdout",
     "output_type": "stream",
     "text": [
      "before\n",
      "simple1\n",
      "after\n",
      "before\n",
      "simple2\n",
      "after\n"
     ]
    }
   ],
   "source": [
    "def add_text(func):\n",
    "\n",
    "    def wrapper():\n",
    "        print('before')\n",
    "        func()\n",
    "        print('after')\n",
    "\n",
    "    return wrapper\n",
    "\n",
    "\n",
    "@add_text\n",
    "def simple1():\n",
    "    print('simple1')\n",
    "\n",
    "@add_text\n",
    "def simple2():\n",
    "    print('simple2')\n",
    "    print('simple2')\n",
    "\n",
    "simple1() # add_text(simple1)()\n",
    "simple2()"
   ]
  },
  {
   "cell_type": "code",
   "execution_count": 27,
   "metadata": {},
   "outputs": [
    {
     "name": "stdout",
     "output_type": "stream",
     "text": [
      "function simple1 started\n",
      "simple1\n",
      "finished simple1\n",
      "function simple2 started\n",
      "simple2\n",
      "simple2\n",
      "finished simple2\n",
      "function print_nothing started\n",
      "finished print_nothing\n",
      "hello\n"
     ]
    },
    {
     "ename": "TypeError",
     "evalue": "add_logs.<locals>.wrapper() takes 0 positional arguments but 1 was given",
     "output_type": "error",
     "traceback": [
      "\u001b[0;31m---------------------------------------------------------------------------\u001b[0m",
      "\u001b[0;31mTypeError\u001b[0m                                 Traceback (most recent call last)",
      "\u001b[0;32m/tmp/ipykernel_1009755/3607865929.py\u001b[0m in \u001b[0;36m<module>\u001b[0;34m\u001b[0m\n\u001b[1;32m     33\u001b[0m \u001b[0msimple2\u001b[0m\u001b[0;34m(\u001b[0m\u001b[0;34m)\u001b[0m\u001b[0;34m\u001b[0m\u001b[0;34m\u001b[0m\u001b[0m\n\u001b[1;32m     34\u001b[0m \u001b[0mprint\u001b[0m\u001b[0;34m(\u001b[0m\u001b[0mprint_nothing\u001b[0m\u001b[0;34m(\u001b[0m\u001b[0;34m)\u001b[0m\u001b[0;34m)\u001b[0m\u001b[0;34m\u001b[0m\u001b[0;34m\u001b[0m\u001b[0m\n\u001b[0;32m---> 35\u001b[0;31m \u001b[0mcalc\u001b[0m\u001b[0;34m(\u001b[0m\u001b[0;36m3\u001b[0m\u001b[0;34m)\u001b[0m\u001b[0;34m\u001b[0m\u001b[0;34m\u001b[0m\u001b[0m\n\u001b[0m",
      "\u001b[0;31mTypeError\u001b[0m: add_logs.<locals>.wrapper() takes 0 positional arguments but 1 was given"
     ]
    }
   ],
   "source": [
    "def add_logs(func):\n",
    "    \n",
    "    def wrapper():\n",
    "        print(f'function {func.__name__} started')\n",
    "        result = func()\n",
    "        print(f'finished {func.__name__}')\n",
    "        return result\n",
    "        \n",
    "\n",
    "    return wrapper\n",
    "\n",
    "\n",
    "@add_logs\n",
    "def simple1():\n",
    "    print('simple1')\n",
    "\n",
    "\n",
    "@add_logs\n",
    "def simple2():\n",
    "    print('simple2')\n",
    "    print('simple2')\n",
    "\n",
    "\n",
    "@add_logs\n",
    "def print_nothing():\n",
    "    return 'hello'\n",
    "\n",
    "@add_logs\n",
    "def calc(x):\n",
    "    print(x * 2)\n",
    "\n",
    "simple1()\n",
    "simple2()\n",
    "print(print_nothing())\n",
    "calc(3)"
   ]
  },
  {
   "cell_type": "code",
   "execution_count": 36,
   "metadata": {},
   "outputs": [
    {
     "name": "stdout",
     "output_type": "stream",
     "text": [
      "function simple1 started\n",
      "simple1\n",
      "finished simple1\n",
      "function print_nothing started\n",
      "finished print_nothing\n",
      "hello\n",
      "function calc started\n",
      "6\n",
      "finished calc\n",
      "function calc2 started\n",
      "21\n",
      "finished calc2\n"
     ]
    }
   ],
   "source": [
    "def add_logs(func):\n",
    "    \n",
    "    def wrapper(*args):\n",
    "        print(f'function {func.__name__} started')\n",
    "        result = func(*args)\n",
    "        print(f'finished {func.__name__}')\n",
    "        return result\n",
    "        \n",
    "\n",
    "    return wrapper\n",
    "\n",
    "@add_logs\n",
    "def simple1():\n",
    "    print('simple1')\n",
    "\n",
    "@add_logs\n",
    "def print_nothing():\n",
    "    return 'hello'\n",
    "\n",
    "@add_logs\n",
    "def calc(x):\n",
    "    print(x * 2)\n",
    "\n",
    "@add_logs\n",
    "def calc2(x, y):\n",
    "    print(x * y)\n",
    "\n",
    "simple1()\n",
    "print(print_nothing())\n",
    "calc(3)\n",
    "calc2(3, 7)"
   ]
  },
  {
   "cell_type": "code",
   "execution_count": 33,
   "metadata": {},
   "outputs": [
    {
     "name": "stdout",
     "output_type": "stream",
     "text": [
      "1 2 3 5 9\n"
     ]
    }
   ],
   "source": [
    "def func(*args):\n",
    "    # print((1, 2, 3, 5, 9))\n",
    "    print(*args)\n",
    "    # print(1, 2, 3, 5, 9)\n",
    "\n",
    "func(1, 2, 3, 5, 9)"
   ]
  },
  {
   "cell_type": "markdown",
   "metadata": {},
   "source": [
    "List comprehension"
   ]
  },
  {
   "cell_type": "code",
   "execution_count": 38,
   "metadata": {},
   "outputs": [
    {
     "name": "stdout",
     "output_type": "stream",
     "text": [
      "[2, 4, 6, 8, 10, 12, 14, 16, 20]\n"
     ]
    }
   ],
   "source": [
    "my_list = [1, 2, 3, 4, 5, 6, 7, 8, 10]\n",
    "\n",
    "new_list = []\n",
    "# for x in my_list:\n",
    "#     new_list.append(x * 2)\n",
    "new_list = [x * 2 for x in my_list]\n",
    "# new_list = map(lambda x: x * 2, my_list)\n",
    "\n",
    "\n",
    "print(new_list)"
   ]
  },
  {
   "cell_type": "code",
   "execution_count": 48,
   "metadata": {},
   "outputs": [
    {
     "name": "stdout",
     "output_type": "stream",
     "text": [
      "1 is not even\n",
      "3 is not even\n",
      "5 is not even\n",
      "7 is not even\n",
      "[2, 4, 6, 8, 10]\n",
      "[None, 2, None, 4, None, 6, None, 8, 10]\n",
      "<generator object <genexpr> at 0x7fa7fb66c580>\n"
     ]
    }
   ],
   "source": [
    "my_list = [1, 2, 3, 4, 5, 6, 7, 8, 10]\n",
    "\n",
    "# new_list = []\n",
    "# for x in my_list:\n",
    "#     if x % 2 == 0:\n",
    "#         new_list.append(x)\n",
    "\n",
    "# new_list = filter(lambda x: x % 2 == 0, my_list)\n",
    "new_list = [x for x in my_list if x % 2 == 0]\n",
    "new_list2 = [x if x % 2 == 0 else x + 1 for x in my_list]\n",
    "new_list2 = [x if x % 2 == 0 else print(f'{x} is not even') for x in my_list]\n",
    "new_generator = (x for x in my_list if x % 2 == 0)\n",
    "\n",
    "print(new_list)\n",
    "print(new_list2)\n",
    "print(new_generator)"
   ]
  },
  {
   "cell_type": "code",
   "execution_count": 2,
   "metadata": {},
   "outputs": [
    {
     "name": "stdout",
     "output_type": "stream",
     "text": [
      "{1: 3, 2: 6, 3: 9, 4: 12, 5: 15, 6: 18, 7: 21, 8: 24, 10: 30}\n"
     ]
    }
   ],
   "source": [
    "my_list = [1, 2, 3, 4, 5, 6, 7, 8, 10]\n",
    "\n",
    "{1: 3, 'SDFSDF': 'WER'}\n",
    "\n",
    "# new_dict = {}\n",
    "# for x in my_list:\n",
    "#     new_dict[x] = x * 3\n",
    "\n",
    "new_dict = {x: x * 3 for x in my_list}\n",
    "\n",
    "print(new_dict)"
   ]
  },
  {
   "cell_type": "code",
   "execution_count": 9,
   "metadata": {},
   "outputs": [
    {
     "name": "stdout",
     "output_type": "stream",
     "text": [
      "{'one': 'two', 'three': 'four'}\n"
     ]
    }
   ],
   "source": [
    "data = [('one', 'two'), ('three', 'four')]\n",
    "\n",
    "# new_dict = {}\n",
    "# for key, value in data:\n",
    "#     new_dict[key] = value\n",
    "\n",
    "new_dict = {key: value for key, value in data}\n",
    "new_dict = dict(data)\n",
    "\n",
    "print(new_dict)"
   ]
  },
  {
   "cell_type": "code",
   "execution_count": 12,
   "metadata": {},
   "outputs": [
    {
     "name": "stdout",
     "output_type": "stream",
     "text": [
      "{'USA': 23, 'Hawaii': 33, 'Cuba': 35}\n"
     ]
    }
   ],
   "source": [
    "countries = ['USA', 'Hawaii', 'Cuba']\n",
    "temps = [23, 33, 35]\n",
    "\n",
    "country_temps_dict = dict(zip(countries, temps))\n",
    "print(country_temps_dict)"
   ]
  }
 ],
 "metadata": {
  "kernelspec": {
   "display_name": "Python 3",
   "language": "python",
   "name": "python3"
  },
  "language_info": {
   "codemirror_mode": {
    "name": "ipython",
    "version": 3
   },
   "file_extension": ".py",
   "mimetype": "text/x-python",
   "name": "python",
   "nbconvert_exporter": "python",
   "pygments_lexer": "ipython3",
   "version": "3.10.12"
  }
 },
 "nbformat": 4,
 "nbformat_minor": 2
}
