{
 "cells": [
  {
   "cell_type": "markdown",
   "metadata": {},
   "source": [
    "### Операторы присваивания\n",
    "![](img/2022-11-16_20-00.png)  \n",
    "Используются для того, чтобы присвоить какое либо значение переменной."
   ]
  },
  {
   "cell_type": "code",
   "execution_count": 2,
   "metadata": {},
   "outputs": [
    {
     "name": "stdout",
     "output_type": "stream",
     "text": [
      "2\n"
     ]
    }
   ],
   "source": [
    "a = 1\n",
    "\n",
    "a += 1\n",
    "# a = a + 1\n",
    "\n",
    "print(a)"
   ]
  },
  {
   "cell_type": "code",
   "execution_count": 12,
   "metadata": {},
   "outputs": [
    {
     "name": "stdout",
     "output_type": "stream",
     "text": [
      "texttext\n",
      "text new\n",
      "==============================\n",
      "Copyrights\n",
      "==============================\n"
     ]
    }
   ],
   "source": [
    "print('text' + 'text')\n",
    "text = 'text'\n",
    "# text = text + ' new'\n",
    "text += ' new'\n",
    "print(text)\n",
    "symbol = '='\n",
    "# symbol = symbol * 20\n",
    "symbol *= 30\n",
    "print(symbol)\n",
    "print('Copyrights')\n",
    "print(symbol)"
   ]
  },
  {
   "cell_type": "markdown",
   "metadata": {},
   "source": [
    "### Операторы принадлежности\n",
    "![](img/2022-11-16_20-01.png)  \n",
    "Используются в условных выражениях (выражения, в которых содержится условие) для проверки вхождения (или не вхождения) одного объекта в состав другого. Результат работы - True или False  \n",
    "Например, можно проверить есть ли какое-то слово в строке:"
   ]
  },
  {
   "cell_type": "code",
   "execution_count": 14,
   "metadata": {},
   "outputs": [
    {
     "name": "stdout",
     "output_type": "stream",
     "text": [
      "True\n",
      "False\n"
     ]
    }
   ],
   "source": [
    "text = 'I love Python!'\n",
    "print('love' in text)\n",
    "print('Love' in text)"
   ]
  },
  {
   "cell_type": "markdown",
   "metadata": {},
   "source": [
    "### Операторы идентичности\n",
    "![](img/2022-11-16_20-05.png)  \n",
    "Используется для проверки является ли объект идентичным тому, что от него требуется (не просто равным по значению, а именно полностью идентичным).  \n",
    "Происходит проверка являются ли сравниваемые значения представителями одного и того же участка памяти в системе. Для чисел от 0 до 256 участки в памяти зарезервированы, поэтому при помещении в переменную такого числа (от 0 до 256) в переменную помещается не само число, а ссылка на него и память для этого числа не выделяется. Эти числа всегда хранятся в системе по одному и тому же адрему. Но если внести в переменную число > 256, то под это число выделяется память и в переменную сохраняется ссылка на эту новую ячейку памяти. Если создать еще одну переменную с таким же значением, под нее снова будет выделена память и в переменную будет сохранена ссылка на новую ячейку памяти.  \n",
    "Таким образом, операторы идентичности проверяют, что сравниваемые объекты представляют собой одну и ту же ячейку памяти."
   ]
  },
  {
   "cell_type": "code",
   "execution_count": 19,
   "metadata": {},
   "outputs": [
    {
     "name": "stdout",
     "output_type": "stream",
     "text": [
      "139905517617424\n",
      "139905517617424\n",
      "139905450350128\n",
      "139905450348784\n",
      "True\n",
      "True\n"
     ]
    }
   ],
   "source": [
    "b = 2\n",
    "print(id(b))\n",
    "c = 2\n",
    "print(id(c))\n",
    "d = 257\n",
    "print(id(d))\n",
    "e = 257\n",
    "print(id(e))\n",
    "print(b is c)\n",
    "print(d is not e)"
   ]
  },
  {
   "cell_type": "markdown",
   "metadata": {},
   "source": [
    "## Способы ввода данных\n",
    "Клавиатура  \n",
    "Чтение из файла  \n",
    "База данных  \n",
    "API  \n",
    "\n",
    "Но сначала разберемся с одним из них"
   ]
  },
  {
   "cell_type": "code",
   "execution_count": 21,
   "metadata": {},
   "outputs": [],
   "source": [
    "input('What is your name?')\n",
    "a = 1"
   ]
  },
  {
   "cell_type": "code",
   "execution_count": 24,
   "metadata": {},
   "outputs": [
    {
     "name": "stdout",
     "output_type": "stream",
     "text": [
      "Hello sdfsdfsdfsdf !\n"
     ]
    }
   ],
   "source": [
    "user_name = input('What is your name?')\n",
    "print('Hello', user_name, '!')"
   ]
  },
  {
   "cell_type": "markdown",
   "metadata": {},
   "source": [
    "Касательно функции input, важно знать, что все, что ввел пользователь будет сохранено в переменную как текст, независимо от того что пользователь ввел. Поэтому, если мы ждем от пользователя число и хотим работать с этим как с числом, то нужно будет преобразовать тот текст, который ввел пользователь в число."
   ]
  },
  {
   "cell_type": "code",
   "execution_count": 32,
   "metadata": {},
   "outputs": [
    {
     "ename": "ValueError",
     "evalue": "invalid literal for int() with base 10: 'sdf'",
     "output_type": "error",
     "traceback": [
      "\u001b[0;31m---------------------------------------------------------------------------\u001b[0m",
      "\u001b[0;31mValueError\u001b[0m                                Traceback (most recent call last)",
      "\u001b[0;32m/tmp/ipykernel_290489/1698465796.py\u001b[0m in \u001b[0;36m<module>\u001b[0;34m\u001b[0m\n\u001b[0;32m----> 1\u001b[0;31m \u001b[0muser_input\u001b[0m \u001b[0;34m=\u001b[0m \u001b[0mint\u001b[0m\u001b[0;34m(\u001b[0m\u001b[0minput\u001b[0m\u001b[0;34m(\u001b[0m\u001b[0;34m'Enter a number'\u001b[0m\u001b[0;34m)\u001b[0m\u001b[0;34m)\u001b[0m\u001b[0;34m\u001b[0m\u001b[0;34m\u001b[0m\u001b[0m\n\u001b[0m\u001b[1;32m      2\u001b[0m \u001b[0mprint\u001b[0m\u001b[0;34m(\u001b[0m\u001b[0mtype\u001b[0m\u001b[0;34m(\u001b[0m\u001b[0muser_input\u001b[0m\u001b[0;34m)\u001b[0m\u001b[0;34m)\u001b[0m\u001b[0;34m\u001b[0m\u001b[0;34m\u001b[0m\u001b[0m\n\u001b[1;32m      3\u001b[0m \u001b[0;34m\u001b[0m\u001b[0m\n\u001b[1;32m      4\u001b[0m \u001b[0mprint\u001b[0m\u001b[0;34m(\u001b[0m\u001b[0;36m2\u001b[0m \u001b[0;34m+\u001b[0m \u001b[0muser_input\u001b[0m\u001b[0;34m)\u001b[0m\u001b[0;34m\u001b[0m\u001b[0;34m\u001b[0m\u001b[0m\n",
      "\u001b[0;31mValueError\u001b[0m: invalid literal for int() with base 10: 'sdf'"
     ]
    }
   ],
   "source": [
    "user_input = int(input('Enter a number'))\n",
    "print(type(user_input))\n",
    "\n",
    "print(2 + user_input)"
   ]
  },
  {
   "cell_type": "markdown",
   "metadata": {},
   "source": [
    "## Преобразование типов данных"
   ]
  },
  {
   "cell_type": "code",
   "execution_count": 44,
   "metadata": {},
   "outputs": [
    {
     "name": "stdout",
     "output_type": "stream",
     "text": [
      "<class 'str'>\n",
      "<class 'int'>\n",
      "<class 'str'>\n",
      "<class 'str'>\n",
      "<class 'bool'>\n",
      "<class 'float'>\n",
      "1.0\n"
     ]
    }
   ],
   "source": [
    "a = '1'\n",
    "print(type(a))\n",
    "a = int(a)\n",
    "print(type(a))\n",
    "a = str(a)\n",
    "print(type(a))\n",
    "b = 'True'\n",
    "print(type(b))\n",
    "b = bool(b)\n",
    "print(type(b))\n",
    "a = float(a)\n",
    "print(type(a))\n",
    "print(a)\n"
   ]
  },
  {
   "cell_type": "markdown",
   "metadata": {},
   "source": [
    "# Типы данных в Python\n",
    "Number (целое число)  \n",
    "String (строка)  \n",
    "Boolean (логический тип данных)  \n",
    "Float(числа с плавающей точкой)  \n",
    "List (список)  \n",
    "Dictionary (словарь)  \n",
    "Tuple (кортеж)  \n",
    "Set (множество)  \n"
   ]
  },
  {
   "cell_type": "markdown",
   "metadata": {},
   "source": [
    "## List(списки)\n",
    "Python список - структура данных для хранения последовательностей.   \n",
    "Экземпляры значений, находящихся в списке, называются элементами списка."
   ]
  },
  {
   "cell_type": "code",
   "execution_count": 53,
   "metadata": {},
   "outputs": [
    {
     "name": "stdout",
     "output_type": "stream",
     "text": [
      "[1, 3, 6, 7, None, 'text', False, 2.42, 'sdsdf', 'last', 'last2']\n",
      "6\n",
      "1\n",
      "last\n",
      "last2\n",
      "sdsdf\n",
      "[1, 3, 42, 7, None, 'text', False, 2.42, 'sdsdf', 'last', 'last2']\n"
     ]
    }
   ],
   "source": [
    "my_list = [1, 3, 6, 7, None, 'text', False, 2.42, 'sdsdf', 'last', 'last2']\n",
    "print(my_list)\n",
    "print(my_list[2])\n",
    "print(my_list[0])\n",
    "print(my_list[9])\n",
    "print(my_list[-1])\n",
    "print(my_list[-3])\n",
    "\n",
    "my_list[2] = 42\n",
    "print(my_list)"
   ]
  },
  {
   "cell_type": "code",
   "execution_count": 60,
   "metadata": {},
   "outputs": [
    {
     "name": "stdout",
     "output_type": "stream",
     "text": [
      "[42, 'text']\n",
      "2\n",
      "1\n",
      "['text']\n",
      "42\n",
      "False\n"
     ]
    }
   ],
   "source": [
    "my_list = []\n",
    "my_list = list()\n",
    "my_list.append(42)\n",
    "my_list.append('text')\n",
    "print(my_list)\n",
    "print(len(my_list))\n",
    "print(my_list.index('text'))\n",
    "poped = my_list.pop(0)\n",
    "print(my_list)\n",
    "print(poped)\n",
    "\n",
    "print(42 in my_list)"
   ]
  },
  {
   "cell_type": "markdown",
   "metadata": {},
   "source": [
    "## Tuple(кортежи)\n",
    "Хранят данные различных типов  \n",
    "Неизменяемы  \n",
    "Занимают меньший размер  \n",
    "Оптимизируются интепретатором   \n",
    "По поведению похожи на списки. Главное отличие - нет функций, позволяющих что-то добавить в кортеж или изменить внутри него"
   ]
  },
  {
   "cell_type": "code",
   "execution_count": 64,
   "metadata": {},
   "outputs": [
    {
     "name": "stdout",
     "output_type": "stream",
     "text": [
      "6\n",
      "2.42\n"
     ]
    }
   ],
   "source": [
    "my_tuple = (1, 3, 6, 7, None, 'text', False, 2.42)\n",
    "print(my_tuple[2])\n",
    "print(my_tuple[-1])\n",
    "# my_tuple[4] = 42"
   ]
  },
  {
   "cell_type": "code",
   "execution_count": 68,
   "metadata": {},
   "outputs": [
    {
     "name": "stdout",
     "output_type": "stream",
     "text": [
      "(1, 5, 2, 6, 1)\n",
      "2\n",
      "1\n"
     ]
    }
   ],
   "source": [
    "my_tuple = ()\n",
    "my_tuple = tuple()\n",
    "my_tuple = (1, 5, 2, 6, 1)\n",
    "print(my_tuple)\n",
    "print(my_tuple.count(1))\n",
    "print(my_tuple.index(5))"
   ]
  },
  {
   "cell_type": "code",
   "execution_count": 76,
   "metadata": {},
   "outputs": [
    {
     "name": "stdout",
     "output_type": "stream",
     "text": [
      "[56]\n",
      "(56,)\n",
      "<class 'tuple'>\n"
     ]
    }
   ],
   "source": [
    "llist = [56]\n",
    "print(llist)\n",
    "ttuple = (56,)\n",
    "print(ttuple)\n",
    "print(type(ttuple))"
   ]
  },
  {
   "cell_type": "markdown",
   "metadata": {},
   "source": [
    "## Set(множества)\n",
    "Содержит в себе только неповторяющиеся элементы  \n",
    "Не гарантирует порядок элементов  \n",
    "Работа с ним тоже похожа на работу со списком  "
   ]
  },
  {
   "cell_type": "code",
   "execution_count": 81,
   "metadata": {},
   "outputs": [
    {
     "name": "stdout",
     "output_type": "stream",
     "text": [
      "{False, 1, 2.42, 3, 6, 7, 42, 'text', None}\n"
     ]
    }
   ],
   "source": [
    "my_set = {1, 3, 6, 7, None, 'text', False, 2.42, 3, 7}\n",
    "# print(my_set[2])\n",
    "my_set.add(42)\n",
    "my_set.add('text')\n",
    "print(my_set)\n"
   ]
  },
  {
   "cell_type": "code",
   "execution_count": 84,
   "metadata": {},
   "outputs": [
    {
     "name": "stdout",
     "output_type": "stream",
     "text": [
      "[1, 2, 5, 6, 8]\n"
     ]
    }
   ],
   "source": [
    "list1 = list(set([1, 2, 5, 6, 2, 1, 8]))\n",
    "# list1 = set(list1)\n",
    "# list1 = list(list1)\n",
    "\n",
    "print(list1)"
   ]
  },
  {
   "cell_type": "code",
   "execution_count": 85,
   "metadata": {},
   "outputs": [
    {
     "name": "stdout",
     "output_type": "stream",
     "text": [
      "<class 'dict'>\n",
      "<class 'set'>\n"
     ]
    }
   ],
   "source": [
    "my_set = {} # Это словарь\n",
    "print(type(my_set))\n",
    "my_set = set() #  Пустой set можно создать только так\n",
    "print(type(my_set))\n"
   ]
  },
  {
   "cell_type": "markdown",
   "metadata": {},
   "source": [
    "## Dictionary(словари)\n",
    "Словари в Python - коллекции произвольных объектов с доступом по ключу. Их иногда ещё называют ассоциативными массивами или хеш-таблицами.  \n",
    "  \n",
    "данные в словаре - это пары ключ: значение  \n",
    "доступ к значениям осуществляется по ключу, а не по номеру, как в списках  \n",
    "данные в словаре упорядочены по порядку добавления элементов  \n",
    "так как словари изменяемы, то элементы словаря можно менять, добавлять, удалять  \n",
    "ключ должен быть объектом неизменяемого типа: число, строка, кортеж  \n",
    "значение может быть данными любого типа  "
   ]
  },
  {
   "cell_type": "code",
   "execution_count": 95,
   "metadata": {},
   "outputs": [
    {
     "name": "stdout",
     "output_type": "stream",
     "text": [
      "value\n",
      "2\n",
      "{'one': 'myvalue', 'two': 'value2', 'three': 'value3', 'four': False, 'five': [1, 5, 8], 'six': {1, 6, 9}, 2: 'skldjflskdf', False: 'skdjhskdjf', 2.42: 'werwerw', (1, 2): 'ieruyieurtert', 5: {1: 2}}\n",
      "<class 'dict'>\n",
      "dict_keys(['one', 'two', 'three', 'four', 'five', 'six', 2, False, 2.42, (1, 2), 5])\n",
      "dict_values(['myvalue', 'value2', 'value3', False, [1, 5, 8], {1, 6, 9}, 'skldjflskdf', 'skdjhskdjf', 'werwerw', 'ieruyieurtert', {1: 2}])\n",
      "dict_items([('one', 'myvalue'), ('two', 'value2'), ('three', 'value3'), ('four', False), ('five', [1, 5, 8]), ('six', {1, 6, 9}), (2, 'skldjflskdf'), (False, 'skdjhskdjf'), (2.42, 'werwerw'), ((1, 2), 'ieruyieurtert'), (5, {1: 2})])\n"
     ]
    }
   ],
   "source": [
    "my_dict = {'one': 'value', 'two': 'value2'}\n",
    "print(my_dict['one'])\n",
    "print(len(my_dict))\n",
    "my_dict['one'] = 'myvalue'\n",
    "my_dict['three'] = 'value3'\n",
    "my_dict['four'] = False\n",
    "my_dict['five'] = [1, 5, 8]\n",
    "my_dict['six'] = {1, 6, 9}\n",
    "my_dict[2] = 'skldjflskdf'\n",
    "my_dict[False] = 'skdjhskdjf'\n",
    "my_dict[2.42] = 'werwerw'\n",
    "my_dict[(1, 2)] = 'ieruyieurtert'\n",
    "my_dict[5] = {1: 2}\n",
    "\n",
    "\n",
    "\n",
    "print(my_dict)\n",
    "print(type(my_dict))\n",
    "\n",
    "print(my_dict.keys())\n",
    "print(my_dict.values())\n",
    "print(my_dict.items())"
   ]
  }
 ],
 "metadata": {
  "kernelspec": {
   "display_name": "Python 3",
   "language": "python",
   "name": "python3"
  },
  "language_info": {
   "codemirror_mode": {
    "name": "ipython",
    "version": 3
   },
   "file_extension": ".py",
   "mimetype": "text/x-python",
   "name": "python",
   "nbconvert_exporter": "python",
   "pygments_lexer": "ipython3",
   "version": "3.10.12"
  }
 },
 "nbformat": 4,
 "nbformat_minor": 2
}
